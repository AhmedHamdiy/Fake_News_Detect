{
 "cells": [
  {
   "cell_type": "markdown",
   "metadata": {},
   "source": [
    "Training the model using our dataset\n",
    "\n",
    "1- Import necessary libraries"
   ]
  },
  {
   "cell_type": "code",
   "execution_count": 3,
   "metadata": {},
   "outputs": [],
   "source": [
    "import pandas as pd\n",
    "import re as re\n",
    "import string\n",
    "from sklearn.model_selection import train_test_split\n",
    "from sklearn.metrics import classification_report,confusion_matrix,ConfusionMatrixDisplay\n",
    "from sklearn.feature_extraction.text import TfidfVectorizer\n",
    "from sklearn.linear_model import LogisticRegression\n"
   ]
  },
  {
   "cell_type": "code",
   "execution_count": 4,
   "metadata": {},
   "outputs": [],
   "source": [
    "\n",
    "#Necessary Functions\n",
    "\n",
    "# Filtering the text \n",
    "def word_edit(text):\n",
    "    text=text.lower()\n",
    "    text=re.sub('\\[.*?\\]','',text)\n",
    "    text=re.sub('\\\\W',\" \",text)\n",
    "    text=re.sub('https?://\\S+|www\\.\\S+','',text)\n",
    "    text=re.sub('<.*?>+','',text)\n",
    "    text=re.sub('[%s]'%re.escape(string.punctuation),'',text)\n",
    "    text=re.sub('\\n','',text)\n",
    "    text=re.sub('\\w*\\d\\w*','',text)\n",
    "    return text\n",
    "\n",
    "def output_label(n):\n",
    "    if n==0:\n",
    "        return \"Fake News\"\n",
    "    elif n==1:\n",
    "        return \"True News\"\n",
    "\n",
    "def manual_testing(news):\n",
    "    testing_news={\"text\":[news]}\n",
    "    new_def_test=pd.DataFrame(testing_news)\n",
    "    new_def_test[\"text\"]=new_def_test[\"text\"].apply(word_edit)\n",
    "    new_x_test=new_def_test[\"text\"]\n",
    "    new_xv_test=vectorization.transform(new_x_test)\n",
    "    pred_LR=LR.predict(new_xv_test)\n",
    "    return print(\"\\n\\nLR Prediction: {}\".format(output_label(pred_LR[0])))"
   ]
  },
  {
   "cell_type": "markdown",
   "metadata": {},
   "source": [
    "3- Read and clear the datasets"
   ]
  },
  {
   "cell_type": "code",
   "execution_count": null,
   "metadata": {},
   "outputs": [],
   "source": [
    "data_fake = pd.read_csv('./DataSet/Fake.csv', encoding='ISO-8859-1')\n",
    "data_true = pd.read_csv( './DataSet/True.csv', encoding='ISO-8859-1')\n",
    "data_additional_1 = pd.read_csv( './DataSet/Thenews.csv', encoding='ISO-8859-1')\n",
    "data_additional_2 = pd.read_csv( './DataSet/news_articles.csv', encoding='ISO-8859-1')\n",
    "data_additional_3 = pd.read_csv( './DataSet/news.csv', encoding='ISO-8859-1')\n",
    "data_part_6 = pd.read_csv( './DataSet/poynter_data.csv', encoding='ISO-8859-1')\n",
    "\n",
    "\n",
    "data_part_1=data_fake.drop(['title','subject','date'],axis=1)\n",
    "data_part_2=data_true.drop(['title','subject','date'],axis=1)\n",
    "data_part_3=data_additional_1.drop(['title','id'],axis=1)\n",
    "data_part_4=data_additional_2.drop(['author','published','title','language','main_img_url',\t'type',\t'title_without_stopwords','text_without_stopwords','hasImage'],axis=1)\n",
    "data_part_5=data_additional_3.drop(['title','id'],axis=1)\n",
    "\n",
    "\n",
    "data = pd.concat([data_part_1,data_part_2,data_part_3,data_part_4,data_part_5,data_part_6], ignore_index=True)\n",
    "data['class'] = data['label'].map({'Fake': 0, 'Real': 1})\n",
    "\n",
    "\n",
    "data = data.dropna(subset=['text', 'class'])\n"
   ]
  },
  {
   "cell_type": "markdown",
   "metadata": {},
   "source": [
    "3- Train the model on the enhanced dataset"
   ]
  },
  {
   "cell_type": "code",
   "execution_count": null,
   "metadata": {},
   "outputs": [],
   "source": [
    "x = data['text']\n",
    "y = data['class']\n",
    "x_train, x_test, y_train, y_test = train_test_split(x, y, test_size=0.02)\n",
    "\n",
    "vectorization = TfidfVectorizer()\n",
    "x_vector_train = vectorization.fit_transform(x_train)\n",
    "x_vector_test = vectorization.transform(x_test)\n",
    "\n",
    "LR = LogisticRegression()\n",
    "LR.fit(x_vector_train, y_train)\n"
   ]
  },
  {
   "cell_type": "markdown",
   "metadata": {},
   "source": [
    "4- Test the model and print the results"
   ]
  },
  {
   "cell_type": "code",
   "execution_count": null,
   "metadata": {},
   "outputs": [],
   "source": [
    "model_prediction = LR.predict(x_vector_test)\n",
    "accuracy = LR.score(x_vector_test, y_test)\n",
    "print(\"Accuracy:\", accuracy)\n",
    "print(classification_report(y_test, model_prediction))"
   ]
  },
  {
   "cell_type": "markdown",
   "metadata": {},
   "source": [
    "5- Calculate the confusion matrix and plot it"
   ]
  },
  {
   "cell_type": "code",
   "execution_count": null,
   "metadata": {},
   "outputs": [],
   "source": [
    "cm=confusion_matrix(model_prediction,y_test)\n",
    "disp = ConfusionMatrixDisplay(confusion_matrix = cm,display_labels=LR.classes_)\n",
    "disp.plot()\n"
   ]
  },
  {
   "cell_type": "markdown",
   "metadata": {},
   "source": [
    "6- Test the model with your own news"
   ]
  },
  {
   "cell_type": "code",
   "execution_count": null,
   "metadata": {},
   "outputs": [],
   "source": [
    "news=str(input())\n",
    "manual_testing(news)"
   ]
  }
 ],
 "metadata": {
  "kernelspec": {
   "display_name": "Python 3",
   "language": "python",
   "name": "python3"
  },
  "language_info": {
   "codemirror_mode": {
    "name": "ipython",
    "version": 3
   },
   "file_extension": ".py",
   "mimetype": "text/x-python",
   "name": "python",
   "nbconvert_exporter": "python",
   "pygments_lexer": "ipython3",
   "version": "3.11.6"
  }
 },
 "nbformat": 4,
 "nbformat_minor": 2
}
