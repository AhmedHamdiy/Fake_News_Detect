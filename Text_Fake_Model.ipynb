{
 "cells": [
  {
   "cell_type": "markdown",
   "metadata": {},
   "source": [
    "Training the model using our dataset"
   ]
  },
  {
   "cell_type": "code",
   "execution_count": 14,
   "metadata": {},
   "outputs": [
    {
     "name": "stderr",
     "output_type": "stream",
     "text": [
      "C:\\Users\\Dell Inc\\AppData\\Local\\Temp\\ipykernel_14036\\1554608060.py:40: DtypeWarning: Columns (4,6,7,8,9,10,11,12,13,14,15,16,17,18,19,20,21,22,23,24,25,26,27,28,29,30,31,32,33,34,35,36,37,38,39,40,41,42,43,44,45,46,47,48,49,50,51,52,53,54,55,56,57,58,59,60,61,62,63,64,65,66,67,68,69,70,71,72,73,74,75,76,77,78,79,80,81,82,83,84,85,86,87,88,89,90,91,92,93,94,95,96,97,98,99,100,101,102,103,104,105,106,107,108,109,110,111,112,113,114,115,116,117,118,119,120,121,122,123,124,125,126,127,128) have mixed types. Specify dtype option on import or set low_memory=False.\n",
      "  data_fake = pd.read_csv('./DataSet/Fake.csv', encoding='ISO-8859-1')\n",
      "C:\\Users\\Dell Inc\\AppData\\Local\\Temp\\ipykernel_14036\\1554608060.py:42: DtypeWarning: Columns (88,89,90,91,92,93,94,95,96,97,98,99,100,101,102,103,104,105,106,107,108,109,110,111,112,113,114,115,116,117,118,119,120,121,122,123,124,125,126,127,128,129,130,131,132,133,134,135,136,137,138,139,140) have mixed types. Specify dtype option on import or set low_memory=False.\n",
      "  data_additional_1 = pd.read_csv( './DataSet/Thenews.csv', encoding='ISO-8859-1')\n",
      "C:\\Users\\Dell Inc\\AppData\\Local\\Temp\\ipykernel_14036\\1554608060.py:44: DtypeWarning: Columns (88,89,90,91,92,93,94,95,96,97,98,99,100,101,102,103,104,105,106,107,108,109,110,111,112,113,114,115,116,117,118,119,120,121,122,123,124,125,126,127,128,129,130,131,132,133,134,135,136,137,138,139,140) have mixed types. Specify dtype option on import or set low_memory=False.\n",
      "  data_additional_3 = pd.read_csv( './DataSet/news.csv', encoding='ISO-8859-1')\n",
      "C:\\Users\\Dell Inc\\AppData\\Local\\Temp\\ipykernel_14036\\1554608060.py:56: PerformanceWarning: DataFrame is highly fragmented.  This is usually the result of calling `frame.insert` many times, which has poor performance.  Consider joining all columns at once using pd.concat(axis=1) instead. To get a de-fragmented frame, use `newframe = frame.copy()`\n",
      "  data['class'] = data['label'].map({'Fake': 0, 'Real': 1})\n"
     ]
    },
    {
     "name": "stdout",
     "output_type": "stream",
     "text": [
      "Accuracy: 0.9647147147147147\n",
      "              precision    recall  f1-score   support\n",
      "\n",
      "         0.0       0.96      0.97      0.97       754\n",
      "         1.0       0.97      0.95      0.96       578\n",
      "\n",
      "    accuracy                           0.96      1332\n",
      "   macro avg       0.96      0.96      0.96      1332\n",
      "weighted avg       0.96      0.96      0.96      1332\n",
      "\n"
     ]
    }
   ],
   "source": [
    "import pandas as pd\n",
    "import re as re\n",
    "import string\n",
    "from sklearn.model_selection import train_test_split\n",
    "from sklearn.metrics import classification_report,confusion_matrix,ConfusionMatrixDisplay\n",
    "from sklearn.feature_extraction.text import TfidfVectorizer\n",
    "from sklearn.linear_model import LogisticRegression\n",
    "\n",
    "#Necessary Functions\n",
    "\n",
    "# Filtering the text \n",
    "def word_edit(text):\n",
    "    text=text.lower()\n",
    "    text=re.sub('\\[.*?\\]','',text)\n",
    "    text=re.sub('\\\\W',\" \",text)\n",
    "    text=re.sub('https?://\\S+|www\\.\\S+','',text)\n",
    "    text=re.sub('<.*?>+','',text)\n",
    "    text=re.sub('[%s]'%re.escape(string.punctuation),'',text)\n",
    "    text=re.sub('\\n','',text)\n",
    "    text=re.sub('\\w*\\d\\w*','',text)\n",
    "    return text\n",
    "\n",
    "def output_label(n):\n",
    "    if n==0:\n",
    "        return \"Fake News\"\n",
    "    elif n==1:\n",
    "        return \"True News\"\n",
    "\n",
    "def manual_testing(news):\n",
    "    testing_news={\"text\":[news]}\n",
    "    new_def_test=pd.DataFrame(testing_news)\n",
    "    new_def_test[\"text\"]=new_def_test[\"text\"].apply(word_edit)\n",
    "    new_x_test=new_def_test[\"text\"]\n",
    "    new_xv_test=vectorization.transform(new_x_test)\n",
    "    pred_LR=LR.predict(new_xv_test)\n",
    "    return print(\"\\n\\nLR Prediction: {}\".format(output_label(pred_LR[0])))\n",
    "\n",
    "\n",
    "\n",
    "data_fake = pd.read_csv('./DataSet/Fake.csv', encoding='ISO-8859-1')\n",
    "data_true = pd.read_csv( './DataSet/True.csv', encoding='ISO-8859-1')\n",
    "data_additional_1 = pd.read_csv( './DataSet/Thenews.csv', encoding='ISO-8859-1')\n",
    "data_additional_2 = pd.read_csv( './DataSet/news_articles.csv', encoding='ISO-8859-1')\n",
    "data_additional_3 = pd.read_csv( './DataSet/news.csv', encoding='ISO-8859-1')\n",
    "data_part_6 = pd.read_csv( './DataSet/poynter_data.csv', encoding='ISO-8859-1')\n",
    "\n",
    "\n",
    "data_part_1=data_fake.drop(['title','subject','date'],axis=1)\n",
    "data_part_2=data_true.drop(['title','subject','date'],axis=1)\n",
    "data_part_3=data_additional_1.drop(['title','id'],axis=1)\n",
    "data_part_4=data_additional_2.drop(['author','published','title','language','main_img_url',\t'type',\t'title_without_stopwords','text_without_stopwords','hasImage'],axis=1)\n",
    "data_part_5=data_additional_3.drop(['title','id'],axis=1)\n",
    "\n",
    "\n",
    "data = pd.concat([data_part_1,data_part_2,data_part_3,data_part_4,data_part_5,data_part_6], ignore_index=True)\n",
    "data['class'] = data['label'].map({'Fake': 0, 'Real': 1})\n",
    "\n",
    "\n",
    "data = data.dropna(subset=['text', 'class'])\n",
    "\n",
    "x = data['text']\n",
    "y = data['class']\n",
    "x_train, x_test, y_train, y_test = train_test_split(x, y, test_size=0.02)\n",
    "\n",
    "\n",
    "vectorization = TfidfVectorizer()\n",
    "x_vector_train = vectorization.fit_transform(x_train)\n",
    "x_vector_test = vectorization.transform(x_test)\n",
    "\n",
    "LR = LogisticRegression()\n",
    "LR.fit(x_vector_train, y_train)\n",
    "\n",
    "\n",
    "model_prediction = LR.predict(x_vector_test)\n",
    "accuracy = LR.score(x_vector_test, y_test)\n",
    "print(\"Accuracy:\", accuracy)\n",
    "print(classification_report(y_test, model_prediction))\n"
   ]
  },
  {
   "cell_type": "code",
   "execution_count": 15,
   "metadata": {},
   "outputs": [
    {
     "data": {
      "text/plain": [
       "<sklearn.metrics._plot.confusion_matrix.ConfusionMatrixDisplay at 0x18f80e8c650>"
      ]
     },
     "execution_count": 15,
     "metadata": {},
     "output_type": "execute_result"
    },
    {
     "data": {
      "image/png": "[encoded data removed]",
      "text/plain": [
       "<Figure size 640x480 with 2 Axes>"
      ]
     },
     "metadata": {},
     "output_type": "display_data"
    }
   ],
   "source": [
    "cm=confusion_matrix(model_prediction,y_test)\n",
    "disp = ConfusionMatrixDisplay(confusion_matrix = cm,display_labels=LR.classes_)\n",
    "disp.plot()\n"
   ]
  },
  {
   "cell_type": "markdown",
   "metadata": {},
   "source": [
    "To test the model with your own news"
   ]
  },
  {
   "cell_type": "code",
   "execution_count": 25,
   "metadata": {},
   "outputs": [
    {
     "name": "stdout",
     "output_type": "stream",
     "text": [
      "\n",
      "\n",
      "LR Prediction: Fake News\n"
     ]
    }
   ],
   "source": [
    "news=str(input())\n",
    "manual_testing(news)"
   ]
  }
 ],
 "metadata": {
  "kernelspec": {
   "display_name": "Python 3",
   "language": "python",
   "name": "python3"
  },
  "language_info": {
   "codemirror_mode": {
    "name": "ipython",
    "version": 3
   },
   "file_extension": ".py",
   "mimetype": "text/x-python",
   "name": "python",
   "nbconvert_exporter": "python",
   "pygments_lexer": "ipython3",
   "version": "3.11.6"
  }
 },
 "nbformat": 4,
 "nbformat_minor": 2
}
